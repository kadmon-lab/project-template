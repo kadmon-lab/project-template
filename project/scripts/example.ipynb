{
 "cells": [
  {
   "cell_type": "code",
   "execution_count": 1,
   "metadata": {},
   "outputs": [
    {
     "ename": "ImportError",
     "evalue": "cannot import name 'calculate_sum' from 'project.lib.arithmetic' (/workspaces/project-template/project/lib/arithmetic.py)",
     "output_type": "error",
     "traceback": [
      "\u001b[0;31m---------------------------------------------------------------------------\u001b[0m",
      "\u001b[0;31mImportError\u001b[0m                               Traceback (most recent call last)",
      "\u001b[1;32m/workspaces/project-template/project/scripts/example.ipynb Cell 1\u001b[0m line \u001b[0;36m1\n\u001b[0;32m----> <a href='vscode-notebook-cell://codespaces%2Bfantastic-eureka-r75pwg5grwghwjvx/workspaces/project-template/project/scripts/example.ipynb#W0sdnNjb2RlLXJlbW90ZQ%3D%3D?line=0'>1</a>\u001b[0m \u001b[39mfrom\u001b[39;00m \u001b[39mproject\u001b[39;00m\u001b[39m.\u001b[39;00m\u001b[39mlib\u001b[39;00m\u001b[39m.\u001b[39;00m\u001b[39marithmetic\u001b[39;00m \u001b[39mimport\u001b[39;00m calculate_sum\n\u001b[1;32m      <a href='vscode-notebook-cell://codespaces%2Bfantastic-eureka-r75pwg5grwghwjvx/workspaces/project-template/project/scripts/example.ipynb#W0sdnNjb2RlLXJlbW90ZQ%3D%3D?line=2'>3</a>\u001b[0m \u001b[39m# List of numbers\u001b[39;00m\n\u001b[1;32m      <a href='vscode-notebook-cell://codespaces%2Bfantastic-eureka-r75pwg5grwghwjvx/workspaces/project-template/project/scripts/example.ipynb#W0sdnNjb2RlLXJlbW90ZQ%3D%3D?line=3'>4</a>\u001b[0m num_list \u001b[39m=\u001b[39m [\u001b[39m1\u001b[39m, \u001b[39m2\u001b[39m, \u001b[39m3\u001b[39m, \u001b[39m4\u001b[39m, \u001b[39m'\u001b[39m\u001b[39m5\u001b[39m\u001b[39m'\u001b[39m]\n",
      "\u001b[0;31mImportError\u001b[0m: cannot import name 'calculate_sum' from 'project.lib.arithmetic' (/workspaces/project-template/project/lib/arithmetic.py)"
     ]
    }
   ],
   "source": [
    "from project.lib.arithmetic import calculate_sum\n",
    "\n",
    "# List of numbers\n",
    "num_list = [1, 2, 3, 4, '5']\n",
    "\n",
    "# Calculate and print the sum\n",
    "result = calculate_sum(num_list)\n",
    "print(f\"The sum is: {result}\")\n"
   ]
  }
 ],
 "metadata": {
  "kernelspec": {
   "display_name": "Python 3",
   "language": "python",
   "name": "python3"
  },
  "language_info": {
   "codemirror_mode": {
    "name": "ipython",
    "version": 3
   },
   "file_extension": ".py",
   "mimetype": "text/x-python",
   "name": "python",
   "nbconvert_exporter": "python",
   "pygments_lexer": "ipython3",
   "version": "3.10.13"
  }
 },
 "nbformat": 4,
 "nbformat_minor": 2
}
